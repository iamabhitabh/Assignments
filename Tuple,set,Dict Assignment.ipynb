{
 "cells": [
  {
   "cell_type": "code",
   "execution_count": 1,
   "id": "3a8145bc-a1a6-4ce6-9766-5fecb178cc73",
   "metadata": {},
   "outputs": [
    {
     "data": {
      "text/plain": [
       "'\\ntuples are imutable objects which means once initiate it cannot be changed. it is initiated by (). \\nThe elements in a tuple are ordered, which means they can be iterated and the indexing works while calling the elements.\\n'"
      ]
     },
     "execution_count": 1,
     "metadata": {},
     "output_type": "execute_result"
    }
   ],
   "source": [
    "#solution1\n",
    "\"\"\"\n",
    "tuples are imutable objects which means once initiate it cannot be changed. it is initiated by (). \n",
    "The elements in a tuple are ordered, which means they can be iterated and the indexing works while calling the elements.\n",
    "\"\"\""
   ]
  },
  {
   "cell_type": "code",
   "execution_count": 9,
   "id": "c4c14b72-487d-408a-a9f1-bead3daeffdd",
   "metadata": {},
   "outputs": [
    {
     "name": "stdout",
     "output_type": "stream",
     "text": [
      "2\n",
      "6\n"
     ]
    }
   ],
   "source": [
    "#solution2\n",
    "\"\"\"\n",
    "Tuples have methods, index and count, avaialble for use. \n",
    "The other methods which are usualy available with other data type are not available with tuples because other data types like list are mutable.\n",
    "The examples of index and count are shown below.\n",
    "\"\"\"\n",
    "s = (1,2,3,2,3,12,14)\n",
    "print(s.count(2))\n",
    "print(s.index(14))\n"
   ]
  },
  {
   "cell_type": "code",
   "execution_count": 6,
   "id": "0eaa0f0a-9141-40b1-ac69-2c5fdfb14a2a",
   "metadata": {},
   "outputs": [
    {
     "name": "stdout",
     "output_type": "stream",
     "text": [
      "[1, 2, 3, 4]\n"
     ]
    }
   ],
   "source": [
    "#solution3\n",
    "\"\"\"\n",
    "Sets dont allow duplicate values\n",
    "\"\"\"\n",
    "lst = [1, 1, 1, 2, 1, 3, 1, 4, 2, 1, 2, 2, 2, 3, 2, 4, 3, 1, 3, 2, 3, 3, 3, 4, 4, 1, 4, 2, 4, 3, 4, 4]\n",
    "x = set(lst)\n",
    "lst = list(x)\n",
    "print(lst)\n"
   ]
  },
  {
   "cell_type": "code",
   "execution_count": 1,
   "id": "2bf35ba6-dc0c-4cd0-8c02-72a6a052bc8a",
   "metadata": {},
   "outputs": [
    {
     "data": {
      "text/plain": [
       "'\\nUnion of two sets will have all the elements present in set1 and set2, but it doesnt change the value in original sets.\\nThe elements of union must be stored in another sets to be used at a later stage.\\nUpdate will add the elements which are not present in the existing set to the set which is being updated.\\n'"
      ]
     },
     "execution_count": 1,
     "metadata": {},
     "output_type": "execute_result"
    }
   ],
   "source": [
    "#solution4\n",
    "\"\"\"\n",
    "Union of two sets will have all the elements present in set1 and set2, but it doesnt change the value in original sets.\n",
    "The elements of union must be stored in another sets to be used at a later stage.\n",
    "Update will add the elements which are not present in the existing set to the set which is being updated.\n",
    "\"\"\""
   ]
  },
  {
   "cell_type": "code",
   "execution_count": 4,
   "id": "1d010a31-5568-4a8a-94d9-bf2c771dd85a",
   "metadata": {},
   "outputs": [
    {
     "data": {
      "text/plain": [
       "dict"
      ]
     },
     "execution_count": 4,
     "metadata": {},
     "output_type": "execute_result"
    }
   ],
   "source": [
    "#Solution5\n",
    "\"\"\"\n",
    "Dicionary is a data type where the elements are stored as a pair of key and vlaue.\n",
    "The dicitonary is not ordered, hence the elements cant be iterated using indexing.\n",
    "To iterate the elements keys are used\n",
    "\"\"\"\n",
    "#example\n",
    "S = {1:1,2:4,3:9,4:15}\n",
    "type(S)"
   ]
  },
  {
   "cell_type": "code",
   "execution_count": 7,
   "id": "3fbc1514-b6b0-4a71-8096-7f2bdc86c43e",
   "metadata": {},
   "outputs": [
    {
     "name": "stdout",
     "output_type": "stream",
     "text": [
      "{1: 1, 2: 4, 3: 9, 4: 15}\n"
     ]
    }
   ],
   "source": [
    "#Solution6\n",
    "\"\"\"\n",
    "yes, a nested dictinary has a dicitonary as a value for any given key\n",
    "\"\"\"\n",
    "#example\n",
    "nested_dict = {1:1,2:S,3:x}\n",
    "print(nested_dict[2])"
   ]
  },
  {
   "cell_type": "code",
   "execution_count": 14,
   "id": "8849f34b-4703-45e0-94da-b082defffccb",
   "metadata": {},
   "outputs": [
    {
     "data": {
      "text/plain": [
       "{'language': 'Python',\n",
       " 'course': 'Data Science Masters',\n",
       " 'Topics': ['Python', 'Machine Learning', 'Deep learning']}"
      ]
     },
     "execution_count": 14,
     "metadata": {},
     "output_type": "execute_result"
    }
   ],
   "source": [
    "#solution7\n",
    "dict1 = {'language' : 'Python', 'course': 'Data Science Masters'}        \n",
    "dict1.setdefault('Topics',  ['Python', 'Machine Learning','Deep learning'])\n",
    "dict1"
   ]
  },
  {
   "cell_type": "code",
   "execution_count": 20,
   "id": "bcf247be-82b7-4643-9a6c-56d0fc07c332",
   "metadata": {},
   "outputs": [
    {
     "name": "stdout",
     "output_type": "stream",
     "text": [
      "dict_keys(['Sport', 'Teams'])\n",
      "dict_values(['Cricket', ['India', 'Australia', 'England', 'South Africa', 'Sri Lanka', 'New Zealand']])\n",
      "dict_items([('Sport', 'Cricket'), ('Teams', ['India', 'Australia', 'England', 'South Africa', 'Sri Lanka', 'New Zealand'])])\n"
     ]
    }
   ],
   "source": [
    "#solution8\n",
    "dict1 = {'Sport': 'Cricket' , 'Teams': ['India', 'Australia', 'England', 'South Africa', 'Sri Lanka', 'New Zealand']}\n",
    "print( str(dict1.keys())+'\\n'+str(dict1.values()) +'\\n'+ str(dict1.items()))\n"
   ]
  },
  {
   "cell_type": "code",
   "execution_count": null,
   "id": "21e7d302-2fcd-4673-947a-f4901517ebe2",
   "metadata": {},
   "outputs": [],
   "source": []
  }
 ],
 "metadata": {
  "kernelspec": {
   "display_name": "Python 3 (ipykernel)",
   "language": "python",
   "name": "python3"
  },
  "language_info": {
   "codemirror_mode": {
    "name": "ipython",
    "version": 3
   },
   "file_extension": ".py",
   "mimetype": "text/x-python",
   "name": "python",
   "nbconvert_exporter": "python",
   "pygments_lexer": "ipython3",
   "version": "3.10.8"
  }
 },
 "nbformat": 4,
 "nbformat_minor": 5
}
