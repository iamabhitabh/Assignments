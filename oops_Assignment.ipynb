{
 "cells": [
  {
   "cell_type": "code",
   "execution_count": 1,
   "id": "6a40b360-ac45-42f8-9063-49ae22adefdc",
   "metadata": {},
   "outputs": [
    {
     "data": {
      "text/plain": [
       "'\\nA class determines the properties, attributes and charaterstics of an object.\\nIn oops concept a class is created to define how an object will behave and what operations can be performed on it.\\nThen many object of that class can be created as required further in the program.\\n'"
      ]
     },
     "execution_count": 1,
     "metadata": {},
     "output_type": "execute_result"
    }
   ],
   "source": [
    "#Solution1\n",
    "\"\"\"\n",
    "A class determines the properties, attributes and charaterstics of an object.\n",
    "In oops concept a class is created to define how an object will behave and what operations can be performed on it.\n",
    "Then many object of that class can be created as required further in the program.\n",
    "\"\"\"\n"
   ]
  },
  {
   "cell_type": "code",
   "execution_count": 2,
   "id": "8630dafa-834d-45f2-abee-0cb39c9c7973",
   "metadata": {},
   "outputs": [
    {
     "data": {
      "text/plain": [
       "'\\nFour Pillars of oops concept are as follows :\\nAbstraction\\nPolymorphism\\nInheritance\\nEncapsulation\\n'"
      ]
     },
     "execution_count": 2,
     "metadata": {},
     "output_type": "execute_result"
    }
   ],
   "source": [
    "#solution2\n",
    "\"\"\"\n",
    "Four Pillars of oops concept are as follows :\n",
    "Abstraction\n",
    "Polymorphism\n",
    "Inheritance\n",
    "Encapsulation\n",
    "(Source: geeksforgeeks.com)\n",
    "\"\"\""
   ]
  },
  {
   "cell_type": "code",
   "execution_count": 6,
   "id": "9aaaf515-51ab-4f30-9f35-71a2b9c864bb",
   "metadata": {},
   "outputs": [
    {
     "data": {
      "text/plain": [
       "7777"
      ]
     },
     "execution_count": 6,
     "metadata": {},
     "output_type": "execute_result"
    }
   ],
   "source": [
    "#solution3\n",
    "\"\"\"\n",
    "__init__ function is used to construct a class. This function tell the properties, attributes that will be present in a class.\n",
    "\"\"\"\n",
    "class car():\n",
    "    def __init__(self, colour, number, company):\n",
    "        self.colour = colour\n",
    "        self.number = number\n",
    "        self.company = company\n",
    "my_car = car('blue', 7777, 'Porsche')\n",
    "my_car.number\n",
    "\n",
    "#here __init__ function is used to define that object of type car will have colour,name and number\n",
    "        "
   ]
  },
  {
   "cell_type": "code",
   "execution_count": 7,
   "id": "4b4650f9-186d-4dc2-a4c0-a67fdc327ddd",
   "metadata": {},
   "outputs": [
    {
     "data": {
      "text/plain": [
       "'\\nSelf is used to refer back to the class. Self is used within defining function of the class.\\nWhile defining an attribute of the objects of a class that is being constructed, rather than taking name of the class, self is used.\\nAny other keyword can also be used instead of self.\\n'"
      ]
     },
     "execution_count": 7,
     "metadata": {},
     "output_type": "execute_result"
    }
   ],
   "source": [
    "#Solution4\n",
    "\"\"\"\n",
    "Self is used to refer back to the class. Self is used within defining function of the class.\n",
    "While defining an attribute of the objects of a class that is being constructed, rather than taking name of the class, self is used.\n",
    "Any other keyword can also be used instead of self.\n",
    "\"\"\"\n",
    "\n"
   ]
  },
  {
   "cell_type": "code",
   "execution_count": 2,
   "id": "17ddeefa-aa33-413e-b16e-8aa2edcc0259",
   "metadata": {},
   "outputs": [
    {
     "name": "stdout",
     "output_type": "stream",
     "text": [
      "0\n"
     ]
    }
   ],
   "source": [
    "#Solution 5\n",
    "'''\n",
    "Inheritence is a property of a class that allows it to tkae the properties and method of the class(parent class) on which its based.\n",
    "Single Inheritance: When a class inherit the property of just one parent class.\n",
    "Multiple inheritence: when a class inherit the property of more than one class\n",
    "Multi level inheritence: when a class inherit the property of a class which is not its immediate parent class,\n",
    "but a class which might be a base class to the parent class of the inheirting class. '''\n"
   ]
  },
  {
   "cell_type": "code",
   "execution_count": null,
   "id": "eddcd75c-2504-4dbf-bc4b-242a4c84a95c",
   "metadata": {},
   "outputs": [],
   "source": []
  }
 ],
 "metadata": {
  "kernelspec": {
   "display_name": "Python 3 (ipykernel)",
   "language": "python",
   "name": "python3"
  },
  "language_info": {
   "codemirror_mode": {
    "name": "ipython",
    "version": 3
   },
   "file_extension": ".py",
   "mimetype": "text/x-python",
   "name": "python",
   "nbconvert_exporter": "python",
   "pygments_lexer": "ipython3",
   "version": "3.10.8"
  }
 },
 "nbformat": 4,
 "nbformat_minor": 5
}
