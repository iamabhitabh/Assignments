{
 "cells": [
  {
   "cell_type": "code",
   "execution_count": 2,
   "id": "84d3d68e-fa30-4b58-b7df-ff931ddf926c",
   "metadata": {},
   "outputs": [
    {
     "name": "stdout",
     "output_type": "stream",
     "text": [
      "4134711838987085478833841242112000\n"
     ]
    }
   ],
   "source": [
    "\"\"\"\n",
    "This question can be run in two ways, considering boolean values in multiplication and not considering it.\n",
    "if considered, it wolud return zero, so in the solution i am not considering the boolean values in the multiplication function.\n",
    "\"\"\"\n",
    "list1 = [1,2,3,4, [44,55,66, True], False, (34,56,78,89,34), {1,2,3,3,2,1}, {1:34, \"key2\": [55, 67, 78, 89], 4: (45,\n",
    "22, 61, 34)}, [56, 'data science'], 'Machine Learning']\n",
    "from functools import reduce\n",
    "def flat(l):\n",
    "    l2 = []\n",
    "    for i in l:\n",
    "        if type(i) == int or type(i) == float:\n",
    "            l2.append(i)\n",
    "        elif type(i) == list or type (i) == tuple or type(i) == set:\n",
    "            for j in i:\n",
    "                if type(j) == int or type(j) == float:\n",
    "                    l2.append(j)\n",
    "                else:\n",
    "                    pass\n",
    "        elif type(i) == dict:\n",
    "            for j in i.keys():\n",
    "                if type(j) == int or type(j) == float:\n",
    "                    l2.append(j)\n",
    "                else:\n",
    "                    pass\n",
    "            for j in i.values():\n",
    "                if type(j)== int or type(j)== float:\n",
    "                    l2.append(j)\n",
    "                elif type (j)==list or type(j) == tuple or type(j)== set:\n",
    "                        for k in j:\n",
    "                            if type(k) == int or type(k) == float:\n",
    "                                l2.append(k)\n",
    "                            else:\n",
    "                                pass\n",
    "        else:\n",
    "            pass\n",
    "    return (reduce (lambda x,y: x*y,l2))\n",
    "print(flat(list1))\n"
   ]
  },
  {
   "cell_type": "code",
   "execution_count": 62,
   "id": "805ffe41-0b0a-438c-b1e0-4a6bcc7a3083",
   "metadata": {},
   "outputs": [
    {
     "name": "stdout",
     "output_type": "stream",
     "text": [
      "r$dzmg$yv$z$wzgz$hxrvmgrhg\n",
      "r$droo$yv$z$wzgz$hxrvmgrhg\n"
     ]
    }
   ],
   "source": [
    "string = \"I want be a data scientist\"\n",
    "test = 'I will be a data scientist'\n",
    "alphabets = {'$':0,'a':1,'b':2,'c':3,'d':4,'e':5,'f':6,'g':7,'h':8,'i':9,'j':10,'k':11,'l':12,'m':13,'n':14,'o':15,'p':16,'q':17,'r':18,'s':19,'t':20,'u':21,'v':22,'w':23,'x':24,'y':25,'z':26}\n",
    "def encrypt(st):\n",
    "    trans = ''\n",
    "    encrypted_message = ''\n",
    "    low = st.lower()\n",
    "    spl = low.split()\n",
    "    for i in spl:\n",
    "        trans = trans+i+'$'\n",
    "    for i in trans:\n",
    "        x = 27 - alphabets[i]\n",
    "        t = list(alphabets.keys())+['$']\n",
    "        encrypted_message = encrypted_message + t[x]\n",
    "    return(encrypted_message[0:-1])\n",
    "\n",
    "        \n",
    "            \n",
    "print(encrypt(string))\n",
    "print(encrypt(test))"
   ]
  },
  {
   "cell_type": "code",
   "execution_count": null,
   "id": "fd605957-0bf8-43f8-a210-b40bcae6d8d0",
   "metadata": {},
   "outputs": [],
   "source": []
  }
 ],
 "metadata": {
  "kernelspec": {
   "display_name": "Python 3 (ipykernel)",
   "language": "python",
   "name": "python3"
  },
  "language_info": {
   "codemirror_mode": {
    "name": "ipython",
    "version": 3
   },
   "file_extension": ".py",
   "mimetype": "text/x-python",
   "name": "python",
   "nbconvert_exporter": "python",
   "pygments_lexer": "ipython3",
   "version": "3.10.8"
  }
 },
 "nbformat": 4,
 "nbformat_minor": 5
}
