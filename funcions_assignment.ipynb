{
 "cells": [
  {
   "cell_type": "code",
   "execution_count": 30,
   "id": "f15197db-9443-4c60-8620-af7016b01588",
   "metadata": {},
   "outputs": [
    {
     "data": {
      "text/plain": [
       "[2, 4, 6, 8, 10, 12, 14, 16, 18, 20, 22, 24]"
      ]
     },
     "execution_count": 30,
     "metadata": {},
     "output_type": "execute_result"
    }
   ],
   "source": [
    "#solution1\n",
    "\"\"\"\n",
    "def key word is used to create a function.\n",
    "\"\"\"\n",
    "def odd(x,y):\n",
    "    z = []\n",
    "    for i in range(x,(y+1)):\n",
    "        if (i%2)== 0:\n",
    "            z.append(i)\n",
    "    return z\n",
    "\n",
    "t = odd(1,25)\n",
    "t"
   ]
  },
  {
   "cell_type": "code",
   "execution_count": 6,
   "id": "0fe58f2c-911b-472c-a5ea-7f1a0f112a7e",
   "metadata": {},
   "outputs": [
    {
     "name": "stdout",
     "output_type": "stream",
     "text": [
      "20.666666666666668\n",
      "enter initials of author:\n"
     ]
    },
    {
     "name": "stdin",
     "output_type": "stream",
     "text": [
      "None FWN\n"
     ]
    },
    {
     "name": "stdout",
     "output_type": "stream",
     "text": [
      "FWN has these books: ['The Antichrist', 'Beyond Good and Evil', 'The Gay Science']\n"
     ]
    }
   ],
   "source": [
    "#solution2\n",
    "\"\"\"\n",
    "*args is used to pass undefinite number of arguments in the function.\n",
    "**kwargs is used to pass undefinite number of dictionary elements to function.\n",
    "\"\"\"\n",
    "def avg(*n):\n",
    "    sum = 0\n",
    "    for i in n:\n",
    "        sum = sum+i\n",
    "    mean = sum/len(n)\n",
    "    return mean\n",
    "print(avg(2,3,45,65,4,5))\n",
    "def authors(**book):\n",
    "    name = input(print('enter initials of author:'))\n",
    "    print( name +' has these books: ' + str(book[name]))\n",
    "authors(RTK=['Rich Dad, Poor Dad',\"Rich dad's guide to investing\"], TZ='Art of War', FWN=['The Antichrist','Beyond Good and Evil','The Gay Science'])"
   ]
  },
  {
   "cell_type": "code",
   "execution_count": 2,
   "id": "5987b648-9b7f-4541-a79e-b7c9f3cfb7b8",
   "metadata": {},
   "outputs": [
    {
     "name": "stdin",
     "output_type": "stream",
     "text": [
      " 5\n"
     ]
    },
    {
     "name": "stdout",
     "output_type": "stream",
     "text": [
      "[2, 4, 6, 8, 10]\n"
     ]
    }
   ],
   "source": [
    "#solution3\n",
    "\"\"\"\n",
    "iterator is an object used to iterate over objects like list,tuples,strings,etc.\n",
    "The object is initialised through iter() method and iterated using next() method.\n",
    "(source: geeksforgeeks.org)\n",
    "\"\"\"\n",
    "lis = [2,4,6,8,10,12,14,16,18,20]\n",
    "lis_iterator = iter(lis)\n",
    "def iteration(x):\n",
    "    count = 1\n",
    "    y = int(input())\n",
    "    z = []\n",
    "    while count <= y:\n",
    "        z.append(next(x))\n",
    "        count = count+1\n",
    "    return print(z)\n",
    "iteration(lis_iterator)"
   ]
  },
  {
   "cell_type": "code",
   "execution_count": 32,
   "id": "0cf8c6b9-e9fe-407c-9c09-ee6f230e72d2",
   "metadata": {},
   "outputs": [
    {
     "name": "stdin",
     "output_type": "stream",
     "text": [
      " 7\n"
     ]
    },
    {
     "name": "stdout",
     "output_type": "stream",
     "text": [
      "1\n",
      "5\n",
      "14\n",
      "30\n",
      "55\n",
      "91\n",
      "140\n"
     ]
    }
   ],
   "source": [
    "#solution 4 \n",
    "\"\"\"\n",
    "Generator function is a function which creates a new element as required and doesn't save all the elements to return them.\n",
    "Yeild statement is used to return the output periodically as iterated. \n",
    "Since normal function can only return once, yeild is used to return multiple times like an element of series\n",
    "\"\"\"\n",
    "def sum_of_squares(n):\n",
    "    sum = 0\n",
    "    for i in range(1,n+1):\n",
    "        sum = sum + (i**2)\n",
    "        yield (sum)\n",
    "l= int(input())\n",
    "for i in sum_of_squares(l):\n",
    "    print(i)"
   ]
  },
  {
   "cell_type": "code",
   "execution_count": 11,
   "id": "09c74a85-1919-42ff-ae6d-e843c3504d24",
   "metadata": {},
   "outputs": [
    {
     "name": "stdout",
     "output_type": "stream",
     "text": [
      "2,3,5,7,11,13,17,19,23,29,31,37,41,43,47,53,59,61,67,71,"
     ]
    }
   ],
   "source": [
    "#solution 5\n",
    "def prime(n):\n",
    "    for i in range(2,n):\n",
    "        count = 0\n",
    "        for j in range(2,i):\n",
    "            if i%j ==0:\n",
    "                count = count+1\n",
    "        if count <1:\n",
    "            yield (i)\n",
    "iterable = iter(prime(1000))\n",
    "for i in range(0,20):\n",
    "    print(next(iterable), end = \",\")"
   ]
  },
  {
   "cell_type": "code",
   "execution_count": null,
   "id": "a9957bb5-a1c8-4314-9cf4-9f28b8f283b1",
   "metadata": {},
   "outputs": [],
   "source": []
  }
 ],
 "metadata": {
  "kernelspec": {
   "display_name": "Python 3 (ipykernel)",
   "language": "python",
   "name": "python3"
  },
  "language_info": {
   "codemirror_mode": {
    "name": "ipython",
    "version": 3
   },
   "file_extension": ".py",
   "mimetype": "text/x-python",
   "name": "python",
   "nbconvert_exporter": "python",
   "pygments_lexer": "ipython3",
   "version": "3.10.8"
  }
 },
 "nbformat": 4,
 "nbformat_minor": 5
}
