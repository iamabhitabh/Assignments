{
 "cells": [
  {
   "cell_type": "code",
   "execution_count": 14,
   "id": "a16e90b1-6f51-437b-b484-19a2286ed2ce",
   "metadata": {},
   "outputs": [
    {
     "name": "stdin",
     "output_type": "stream",
     "text": [
      "Enter Password: Abhitabh0@\n"
     ]
    },
    {
     "name": "stdout",
     "output_type": "stream",
     "text": [
      "Invalid Password\n"
     ]
    }
   ],
   "source": [
    "#Solution1\n",
    "special = ['!','@','#','$','%','^','&','(',')','?''/',',','<','>']\n",
    "integer = ['1','2','3','4','5','6','7','8','9','0']\n",
    "password = input('Enter Password:' )\n",
    "def check(password):\n",
    "    count_up = 0\n",
    "    count_low = 0\n",
    "    count_int = 0\n",
    "    count_sp = 0\n",
    "    for i in password:\n",
    "        if i.isupper() == True:\n",
    "            count_up = count_up+1\n",
    "        if i.islower() == True:\n",
    "            count_low = count_low+1\n",
    "        if i in integer:\n",
    "            count_int = count_int +1\n",
    "        if i in special:\n",
    "            count_sp = count_sp+1\n",
    "    if count_up >=2 and count_low>=2 and count_int>=1 and count_sp>=3 and len(password) ==10:\n",
    "        return print(\"Valid Password\")\n",
    "    else:\n",
    "        return print(\"Invalid Password\")\n",
    "check(password)"
   ]
  },
  {
   "cell_type": "code",
   "execution_count": 2,
   "id": "3aa7a498-13be-4547-8060-c69e2a184610",
   "metadata": {},
   "outputs": [
    {
     "name": "stdout",
     "output_type": "stream",
     "text": [
      "[6, 5, 4, 3, 2, 1, 0]\n",
      "[-5, -4, -3, -2, -1]\n"
     ]
    }
   ],
   "source": [
    "#solution2\n",
    "\n",
    "#1\n",
    "def strings(*n):\n",
    "    lst = []\n",
    "    n = input('Enter next string:')\n",
    "    while n != 'end':\n",
    "        lst.append (n)\n",
    "        n = input('Enter next string:')\n",
    "    return lst\n",
    "string = strings()\n",
    "check = input('Enter starting letter:')\n",
    "def check_s(x):\n",
    "    return check== x[0]\n",
    "y = list(filter(check_s,string))\n",
    "print (y)\n",
    "print('The above strings starts with ' + check)\n",
    "\n",
    "#2\n",
    "def string2(*n):\n",
    "    lst_2 = []\n",
    "    n = input('Enter next string:')\n",
    "    while n != 'end':\n",
    "        lst_2.append (n)\n",
    "        n = input('Enter next string:')\n",
    "    return lst_2\n",
    "str2 = string2()\n",
    "s2 = list(filter(lambda x: x.isnumeric(),str2))\n",
    "print (s2)\n",
    "print('The above list is numeric')\n",
    "\n",
    "#3\n",
    "def rate(*n):\n",
    "    x = input(\"Add next (Y/N):\")\n",
    "    final_lst = []\n",
    "    while x == 'Y':\n",
    "        lst = []\n",
    "        name = input('Enter fruit name:')\n",
    "        price = float(input('Enter Quantity: '))\n",
    "        lst.append(name)\n",
    "        lst.append(price)\n",
    "        tup = tuple(lst)\n",
    "        final_lst.append(tup)\n",
    "        x = input(\"Add next (Y/N):\")\n",
    "    return final_lst\n",
    "rate_lst = rate()\n",
    "rate_lst.sort(key = lambda x: x[1],reverse = True)\n",
    "rate_lst\n",
    "#4\n",
    "sqr = [x**2 for x in range(1,11)]\n",
    "print(sqr)\n",
    "#5\n",
    "cube = [round(x**(1/3),2) for x in range(1,11)]\n",
    "cube \n",
    "#6\n",
    "n = int(input())\n",
    "x = lambda n: n%2 == 0\n",
    "if x(n):\n",
    "    print( 'it is even')\n",
    "else:\n",
    "    print('it is odd')\n",
    "\n",
    "#7\n",
    "lst_7 = [1,2,3,4,5,6,7,8,9,10]\n",
    "lst_odd = list(filter(lambda x:x%2==1,lst_7))\n",
    "lst_odd\n",
    "\n",
    "#8\n",
    "lst_8 = [1,2,3,4,5,6,-1,-2,-3,-4,-5,0]\n",
    "lst_p = list(filter(lambda x: x>=0,lst_8))\n",
    "lst_n = list(filter(lambda x: x<0,lst_8))\n",
    "print(sorted(lst_p, reverse = True))\n",
    "print(sorted(lst_n))"
   ]
  },
  {
   "cell_type": "code",
   "execution_count": null,
   "id": "62485e80-9ca9-4a78-bf10-7c3e803d8e23",
   "metadata": {},
   "outputs": [],
   "source": []
  }
 ],
 "metadata": {
  "kernelspec": {
   "display_name": "Python 3 (ipykernel)",
   "language": "python",
   "name": "python3"
  },
  "language_info": {
   "codemirror_mode": {
    "name": "ipython",
    "version": 3
   },
   "file_extension": ".py",
   "mimetype": "text/x-python",
   "name": "python",
   "nbconvert_exporter": "python",
   "pygments_lexer": "ipython3",
   "version": "3.10.8"
  }
 },
 "nbformat": 4,
 "nbformat_minor": 5
}
