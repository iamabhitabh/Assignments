{
 "cells": [
  {
   "cell_type": "code",
   "execution_count": 6,
   "id": "19bfebe3-b21b-4929-b89e-78ea61d50b31",
   "metadata": {},
   "outputs": [
    {
     "data": {
      "text/plain": [
       "[('Virat Kohli', 24936),\n",
       " ('Jack Kallis', 25534),\n",
       " ('Ricky Ponting', 27483),\n",
       " ('Sachin Tendulkar', 34357)]"
      ]
     },
     "execution_count": 6,
     "metadata": {},
     "output_type": "execute_result"
    }
   ],
   "source": [
    "#Solution 1\n",
    "lst = [('Sachin Tendulkar', 34357), ('Ricky Ponting', 27483), ('Jack Kallis', 25534), ('Virat Kohli', 24936)]\n",
    "def integer(x):\n",
    "    for i in x:\n",
    "        if type(i)== int:\n",
    "            return i\n",
    "lst.sort(key = lambda y: integer(y), reverse = False)\n",
    "lst"
   ]
  },
  {
   "cell_type": "code",
   "execution_count": 28,
   "id": "3541c451-5ce8-4693-a7dc-9b92868c89bc",
   "metadata": {},
   "outputs": [
    {
     "data": {
      "text/plain": [
       "[1, 4, 9, 16, 25, 36, 49, 64, 81, 100]"
      ]
     },
     "execution_count": 28,
     "metadata": {},
     "output_type": "execute_result"
    }
   ],
   "source": [
    "#solution2\n",
    "lst_2 = [1, 2, 3, 4, 5, 6, 7, 8, 9, 10]\n",
    "new_lst = list(map(lambda x: x**2,lst_2))\n",
    "new_lst"
   ]
  },
  {
   "cell_type": "code",
   "execution_count": 29,
   "id": "08c8e23b-fe20-43a2-9823-7ecb8ca54c87",
   "metadata": {},
   "outputs": [
    {
     "data": {
      "text/plain": [
       "('1', '2', '3', '4', '5', '6', '7', '8', '9', '10')"
      ]
     },
     "execution_count": 29,
     "metadata": {},
     "output_type": "execute_result"
    }
   ],
   "source": [
    "#solution3\n",
    "lst_3 = [1, 2, 3, 4, 5, 6, 7, 8, 9, 10]\n",
    "tup = tuple(map(lambda x : str(x),lst_3))\n",
    "tup\n",
    "            "
   ]
  },
  {
   "cell_type": "code",
   "execution_count": 37,
   "id": "ad112d35-5c40-45fb-940a-13fa147b9a1e",
   "metadata": {},
   "outputs": [
    {
     "data": {
      "text/plain": [
       "15511210043330985984000000"
      ]
     },
     "execution_count": 37,
     "metadata": {},
     "output_type": "execute_result"
    }
   ],
   "source": [
    "#solution4\n",
    "from functools import reduce\n",
    "lst_4 =[]\n",
    "for i in range(1,26):\n",
    "    lst_4.append(i)\n",
    "val = reduce (lambda x,y:x*y, lst_4)\n",
    "val"
   ]
  },
  {
   "cell_type": "code",
   "execution_count": 39,
   "id": "ca094cd0-145a-4262-874e-06009b5cb18a",
   "metadata": {},
   "outputs": [
    {
     "data": {
      "text/plain": [
       "[6, 60, 90, 120]"
      ]
     },
     "execution_count": 39,
     "metadata": {},
     "output_type": "execute_result"
    }
   ],
   "source": [
    "#solution5\n",
    "lst_5 = [2, 3, 6, 9, 27, 60, 90, 120, 55, 46]\n",
    "x = list(filter (lambda x: x%2==0 and x%3 ==0,lst_5))\n",
    "x"
   ]
  },
  {
   "cell_type": "code",
   "execution_count": 2,
   "id": "a9450d83-8af9-4b63-a5c9-88c9b91c9432",
   "metadata": {},
   "outputs": [
    {
     "data": {
      "text/plain": [
       "['php', 'aba', 'radar', 'level']"
      ]
     },
     "execution_count": 2,
     "metadata": {},
     "output_type": "execute_result"
    }
   ],
   "source": [
    "#solution6 (rough work)\n",
    "lst_6 = ['python', 'php', 'aba', 'radar', 'level']\n",
    "def palindrome(n):\n",
    "    new_lst =[]\n",
    "    for i in lst_6:\n",
    "        count = 0\n",
    "        for j in range(0,len(i)//2):\n",
    "            if i[j] == i[len(i)-(j+1)]:\n",
    "                count = count+1\n",
    "            else:\n",
    "                break \n",
    "        if count == len(i)//2:\n",
    "            new_lst.append(i)\n",
    "    return(new_lst)\n",
    "palindrome(lst_6)"
   ]
  },
  {
   "cell_type": "code",
   "execution_count": 17,
   "id": "fde03252-2103-4a48-af8d-3f5629acebd8",
   "metadata": {},
   "outputs": [
    {
     "data": {
      "text/plain": [
       "['php', 'aba', 'radar', 'level']"
      ]
     },
     "execution_count": 17,
     "metadata": {},
     "output_type": "execute_result"
    }
   ],
   "source": [
    "#solution6 (final code)\n",
    "def palindrome(n):\n",
    "    count = 0\n",
    "    for i in range(0,len(n)):\n",
    "        if n[i]==n[-(i+1)]:\n",
    "            count = count+1\n",
    "    return count\n",
    "palin_lst = []\n",
    "for i in (filter(lambda x :palindrome(x) == len(x),lst_6)):\n",
    "    palin_lst.append(i)\n",
    "palin_lst\n",
    "\n",
    "\n",
    "\n",
    "    "
   ]
  },
  {
   "cell_type": "code",
   "execution_count": null,
   "id": "7a84fa36-3466-445e-94f2-ebd27752158f",
   "metadata": {},
   "outputs": [],
   "source": []
  }
 ],
 "metadata": {
  "kernelspec": {
   "display_name": "Python 3 (ipykernel)",
   "language": "python",
   "name": "python3"
  },
  "language_info": {
   "codemirror_mode": {
    "name": "ipython",
    "version": 3
   },
   "file_extension": ".py",
   "mimetype": "text/x-python",
   "name": "python",
   "nbconvert_exporter": "python",
   "pygments_lexer": "ipython3",
   "version": "3.10.8"
  }
 },
 "nbformat": 4,
 "nbformat_minor": 5
}
